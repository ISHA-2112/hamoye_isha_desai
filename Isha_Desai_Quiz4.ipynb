{
 "cells": [
  {
   "cell_type": "code",
   "execution_count": 1,
   "metadata": {
    "_cell_guid": "b1076dfc-b9ad-4769-8c92-a6c4dae69d19",
    "_uuid": "8f2839f25d086af736a60e9eeb907d3b93b6e0e5",
    "execution": {
     "iopub.execute_input": "2023-07-16T02:52:38.785185Z",
     "iopub.status.busy": "2023-07-16T02:52:38.784665Z",
     "iopub.status.idle": "2023-07-16T02:52:38.813457Z",
     "shell.execute_reply": "2023-07-16T02:52:38.812397Z",
     "shell.execute_reply.started": "2023-07-16T02:52:38.785150Z"
    }
   },
   "outputs": [],
   "source": [
    "# Imporing Required Libraries\n",
    "\n",
    "import pandas as pd\n",
    "import numpy as np"
   ]
  },
  {
   "cell_type": "code",
   "execution_count": 2,
   "metadata": {
    "execution": {
     "iopub.execute_input": "2023-07-16T02:52:42.339703Z",
     "iopub.status.busy": "2023-07-16T02:52:42.339246Z",
     "iopub.status.idle": "2023-07-16T02:52:51.643858Z",
     "shell.execute_reply": "2023-07-16T02:52:51.642660Z",
     "shell.execute_reply.started": "2023-07-16T02:52:42.339659Z"
    }
   },
   "outputs": [],
   "source": [
    "# Libraries for Data Visualisation\n",
    "import os\n",
    "import cv2\n",
    "import pandas as pd\n",
    "import numpy as np\n",
    "import gc\n",
    "import matplotlib.pyplot as plt\n",
    "from matplotlib.image import imread\n",
    "from sklearn.metrics import fbeta_score\n",
    "from tqdm import tqdm\n",
    "import tensorflow as tf\n",
    "from keras import optimizers\n",
    "from tensorflow.keras.models import Sequential \n",
    "from tensorflow.keras.preprocessing.image import ImageDataGenerator\n",
    "from tensorflow.keras.layers import Input , Dense , Dropout , Flatten,\\\n",
    "Conv2D,MaxPooling2D , BatchNormalization\n",
    "from keras.callbacks import ModelCheckpoint, EarlyStopping, ReduceLROnPlateau, History\n",
    "import tensorflow_addons as tfa"
   ]
  },
  {
   "cell_type": "code",
   "execution_count": 3,
   "metadata": {
    "execution": {
     "iopub.execute_input": "2023-07-16T02:52:53.736351Z",
     "iopub.status.busy": "2023-07-16T02:52:53.735311Z",
     "iopub.status.idle": "2023-07-16T02:52:53.750185Z",
     "shell.execute_reply": "2023-07-16T02:52:53.749059Z",
     "shell.execute_reply.started": "2023-07-16T02:52:53.736307Z"
    }
   },
   "outputs": [
    {
     "data": {
      "text/plain": [
       "['planet', 'test-jpg-additional']"
      ]
     },
     "execution_count": 3,
     "metadata": {},
     "output_type": "execute_result"
    }
   ],
   "source": [
    "path = \"../input/planets-dataset/\"\n",
    "os.listdir(path)"
   ]
  },
  {
   "cell_type": "code",
   "execution_count": 4,
   "metadata": {
    "execution": {
     "iopub.execute_input": "2023-07-16T02:52:55.279652Z",
     "iopub.status.busy": "2023-07-16T02:52:55.278609Z",
     "iopub.status.idle": "2023-07-16T02:52:55.356055Z",
     "shell.execute_reply": "2023-07-16T02:52:55.355057Z",
     "shell.execute_reply.started": "2023-07-16T02:52:55.279611Z"
    }
   },
   "outputs": [
    {
     "data": {
      "text/html": [
       "<div>\n",
       "<style scoped>\n",
       "    .dataframe tbody tr th:only-of-type {\n",
       "        vertical-align: middle;\n",
       "    }\n",
       "\n",
       "    .dataframe tbody tr th {\n",
       "        vertical-align: top;\n",
       "    }\n",
       "\n",
       "    .dataframe thead th {\n",
       "        text-align: right;\n",
       "    }\n",
       "</style>\n",
       "<table border=\"1\" class=\"dataframe\">\n",
       "  <thead>\n",
       "    <tr style=\"text-align: right;\">\n",
       "      <th></th>\n",
       "      <th>image_name</th>\n",
       "      <th>tags</th>\n",
       "    </tr>\n",
       "  </thead>\n",
       "  <tbody>\n",
       "    <tr>\n",
       "      <th>0</th>\n",
       "      <td>train_0</td>\n",
       "      <td>haze primary</td>\n",
       "    </tr>\n",
       "    <tr>\n",
       "      <th>1</th>\n",
       "      <td>train_1</td>\n",
       "      <td>agriculture clear primary water</td>\n",
       "    </tr>\n",
       "    <tr>\n",
       "      <th>2</th>\n",
       "      <td>train_2</td>\n",
       "      <td>clear primary</td>\n",
       "    </tr>\n",
       "    <tr>\n",
       "      <th>3</th>\n",
       "      <td>train_3</td>\n",
       "      <td>clear primary</td>\n",
       "    </tr>\n",
       "    <tr>\n",
       "      <th>4</th>\n",
       "      <td>train_4</td>\n",
       "      <td>agriculture clear habitation primary road</td>\n",
       "    </tr>\n",
       "  </tbody>\n",
       "</table>\n",
       "</div>"
      ],
      "text/plain": [
       "  image_name                                       tags\n",
       "0    train_0                               haze primary\n",
       "1    train_1            agriculture clear primary water\n",
       "2    train_2                              clear primary\n",
       "3    train_3                              clear primary\n",
       "4    train_4  agriculture clear habitation primary road"
      ]
     },
     "execution_count": 4,
     "metadata": {},
     "output_type": "execute_result"
    }
   ],
   "source": [
    "train_label = pd.read_csv(\"/kaggle/input/planets-dataset/planet/planet/train_classes.csv\")\n",
    "train_label.head()"
   ]
  },
  {
   "cell_type": "code",
   "execution_count": 5,
   "metadata": {
    "execution": {
     "iopub.execute_input": "2023-07-16T02:52:57.297084Z",
     "iopub.status.busy": "2023-07-16T02:52:57.296674Z",
     "iopub.status.idle": "2023-07-16T02:52:57.369741Z",
     "shell.execute_reply": "2023-07-16T02:52:57.368676Z",
     "shell.execute_reply.started": "2023-07-16T02:52:57.297046Z"
    }
   },
   "outputs": [
    {
     "name": "stdout",
     "output_type": "stream",
     "text": [
      "['cultivation', 'conventional_mine', 'habitation', 'bare_ground', 'haze', 'slash_burn', 'blooming', 'partly_cloudy', 'clear', 'road', 'selective_logging', 'blow_down', 'cloudy', 'primary', 'water', 'artisinal_mine', 'agriculture']\n"
     ]
    }
   ],
   "source": [
    "labels = set()\n",
    "def splitting_tags(tags):\n",
    "    '''\n",
    "    Takes in tags column, splits the tags and store as a set\n",
    "    '''\n",
    "    [labels.add(tag) for tag in tags.split()]\n",
    "    \n",
    "# Create a copy of train_label\n",
    "train = train_label.copy()\n",
    "train['tags'].apply(splitting_tags)\n",
    "labels = list(labels)\n",
    "print(labels)"
   ]
  },
  {
   "cell_type": "code",
   "execution_count": 6,
   "metadata": {
    "execution": {
     "iopub.execute_input": "2023-07-16T02:52:59.378974Z",
     "iopub.status.busy": "2023-07-16T02:52:59.378575Z",
     "iopub.status.idle": "2023-07-16T02:53:00.034864Z",
     "shell.execute_reply": "2023-07-16T02:53:00.033777Z",
     "shell.execute_reply.started": "2023-07-16T02:52:59.378937Z"
    }
   },
   "outputs": [
    {
     "data": {
      "text/html": [
       "<div>\n",
       "<style scoped>\n",
       "    .dataframe tbody tr th:only-of-type {\n",
       "        vertical-align: middle;\n",
       "    }\n",
       "\n",
       "    .dataframe tbody tr th {\n",
       "        vertical-align: top;\n",
       "    }\n",
       "\n",
       "    .dataframe thead th {\n",
       "        text-align: right;\n",
       "    }\n",
       "</style>\n",
       "<table border=\"1\" class=\"dataframe\">\n",
       "  <thead>\n",
       "    <tr style=\"text-align: right;\">\n",
       "      <th></th>\n",
       "      <th>image_name</th>\n",
       "      <th>tags</th>\n",
       "      <th>cultivation</th>\n",
       "      <th>conventional_mine</th>\n",
       "      <th>habitation</th>\n",
       "      <th>bare_ground</th>\n",
       "      <th>haze</th>\n",
       "      <th>slash_burn</th>\n",
       "      <th>blooming</th>\n",
       "      <th>partly_cloudy</th>\n",
       "      <th>clear</th>\n",
       "      <th>road</th>\n",
       "      <th>selective_logging</th>\n",
       "      <th>blow_down</th>\n",
       "      <th>cloudy</th>\n",
       "      <th>primary</th>\n",
       "      <th>water</th>\n",
       "      <th>artisinal_mine</th>\n",
       "      <th>agriculture</th>\n",
       "    </tr>\n",
       "  </thead>\n",
       "  <tbody>\n",
       "    <tr>\n",
       "      <th>0</th>\n",
       "      <td>train_0.jpg</td>\n",
       "      <td>haze primary</td>\n",
       "      <td>0</td>\n",
       "      <td>0</td>\n",
       "      <td>0</td>\n",
       "      <td>0</td>\n",
       "      <td>1</td>\n",
       "      <td>0</td>\n",
       "      <td>0</td>\n",
       "      <td>0</td>\n",
       "      <td>0</td>\n",
       "      <td>0</td>\n",
       "      <td>0</td>\n",
       "      <td>0</td>\n",
       "      <td>0</td>\n",
       "      <td>1</td>\n",
       "      <td>0</td>\n",
       "      <td>0</td>\n",
       "      <td>0</td>\n",
       "    </tr>\n",
       "    <tr>\n",
       "      <th>1</th>\n",
       "      <td>train_1.jpg</td>\n",
       "      <td>agriculture clear primary water</td>\n",
       "      <td>0</td>\n",
       "      <td>0</td>\n",
       "      <td>0</td>\n",
       "      <td>0</td>\n",
       "      <td>0</td>\n",
       "      <td>0</td>\n",
       "      <td>0</td>\n",
       "      <td>0</td>\n",
       "      <td>1</td>\n",
       "      <td>0</td>\n",
       "      <td>0</td>\n",
       "      <td>0</td>\n",
       "      <td>0</td>\n",
       "      <td>1</td>\n",
       "      <td>1</td>\n",
       "      <td>0</td>\n",
       "      <td>1</td>\n",
       "    </tr>\n",
       "    <tr>\n",
       "      <th>2</th>\n",
       "      <td>train_2.jpg</td>\n",
       "      <td>clear primary</td>\n",
       "      <td>0</td>\n",
       "      <td>0</td>\n",
       "      <td>0</td>\n",
       "      <td>0</td>\n",
       "      <td>0</td>\n",
       "      <td>0</td>\n",
       "      <td>0</td>\n",
       "      <td>0</td>\n",
       "      <td>1</td>\n",
       "      <td>0</td>\n",
       "      <td>0</td>\n",
       "      <td>0</td>\n",
       "      <td>0</td>\n",
       "      <td>1</td>\n",
       "      <td>0</td>\n",
       "      <td>0</td>\n",
       "      <td>0</td>\n",
       "    </tr>\n",
       "    <tr>\n",
       "      <th>3</th>\n",
       "      <td>train_3.jpg</td>\n",
       "      <td>clear primary</td>\n",
       "      <td>0</td>\n",
       "      <td>0</td>\n",
       "      <td>0</td>\n",
       "      <td>0</td>\n",
       "      <td>0</td>\n",
       "      <td>0</td>\n",
       "      <td>0</td>\n",
       "      <td>0</td>\n",
       "      <td>1</td>\n",
       "      <td>0</td>\n",
       "      <td>0</td>\n",
       "      <td>0</td>\n",
       "      <td>0</td>\n",
       "      <td>1</td>\n",
       "      <td>0</td>\n",
       "      <td>0</td>\n",
       "      <td>0</td>\n",
       "    </tr>\n",
       "    <tr>\n",
       "      <th>4</th>\n",
       "      <td>train_4.jpg</td>\n",
       "      <td>agriculture clear habitation primary road</td>\n",
       "      <td>0</td>\n",
       "      <td>0</td>\n",
       "      <td>1</td>\n",
       "      <td>0</td>\n",
       "      <td>0</td>\n",
       "      <td>0</td>\n",
       "      <td>0</td>\n",
       "      <td>0</td>\n",
       "      <td>1</td>\n",
       "      <td>1</td>\n",
       "      <td>0</td>\n",
       "      <td>0</td>\n",
       "      <td>0</td>\n",
       "      <td>1</td>\n",
       "      <td>0</td>\n",
       "      <td>0</td>\n",
       "      <td>1</td>\n",
       "    </tr>\n",
       "  </tbody>\n",
       "</table>\n",
       "</div>"
      ],
      "text/plain": [
       "    image_name                                       tags  cultivation  \\\n",
       "0  train_0.jpg                               haze primary            0   \n",
       "1  train_1.jpg            agriculture clear primary water            0   \n",
       "2  train_2.jpg                              clear primary            0   \n",
       "3  train_3.jpg                              clear primary            0   \n",
       "4  train_4.jpg  agriculture clear habitation primary road            0   \n",
       "\n",
       "   conventional_mine  habitation  bare_ground  haze  slash_burn  blooming  \\\n",
       "0                  0           0            0     1           0         0   \n",
       "1                  0           0            0     0           0         0   \n",
       "2                  0           0            0     0           0         0   \n",
       "3                  0           0            0     0           0         0   \n",
       "4                  0           1            0     0           0         0   \n",
       "\n",
       "   partly_cloudy  clear  road  selective_logging  blow_down  cloudy  primary  \\\n",
       "0              0      0     0                  0          0       0        1   \n",
       "1              0      1     0                  0          0       0        1   \n",
       "2              0      1     0                  0          0       0        1   \n",
       "3              0      1     0                  0          0       0        1   \n",
       "4              0      1     1                  0          0       0        1   \n",
       "\n",
       "   water  artisinal_mine  agriculture  \n",
       "0      0               0            0  \n",
       "1      1               0            1  \n",
       "2      0               0            0  \n",
       "3      0               0            0  \n",
       "4      0               0            1  "
      ]
     },
     "execution_count": 6,
     "metadata": {},
     "output_type": "execute_result"
    }
   ],
   "source": [
    "##One hot encoding is performed on the labels in train classes \n",
    "\n",
    "for tag in labels:\n",
    "    train[tag] = train['tags'].apply(lambda x: 1 if tag in x.split() else 0)\n",
    "    \n",
    "## adding .jpg extension to the column image_name so as to have same name format as the image files\n",
    "train['image_name'] = train['image_name'].apply(lambda x: '{}.jpg'.format(x))\n",
    "train.head()"
   ]
  },
  {
   "cell_type": "code",
   "execution_count": 7,
   "metadata": {
    "execution": {
     "iopub.execute_input": "2023-07-16T02:53:02.166706Z",
     "iopub.status.busy": "2023-07-16T02:53:02.165585Z",
     "iopub.status.idle": "2023-07-16T02:53:02.174297Z",
     "shell.execute_reply": "2023-07-16T02:53:02.172844Z",
     "shell.execute_reply.started": "2023-07-16T02:53:02.166653Z"
    }
   },
   "outputs": [],
   "source": [
    "#importing libraries for training\n",
    "import tensorflow as tf\n",
    "from tensorflow.keras.models import Sequential\n",
    "from tensorflow.keras.layers import Dense, BatchNormalization, Conv2D, MaxPooling2D\n",
    "from tensorflow.keras.layers import Dropout, Flatten\n",
    "from tensorflow.keras.optimizers import Adam, SGD\n",
    "from tensorflow.keras.callbacks import EarlyStopping, ModelCheckpoint, TensorBoard\n",
    "from tensorflow.keras.preprocessing.image import ImageDataGenerator"
   ]
  },
  {
   "cell_type": "code",
   "execution_count": 8,
   "metadata": {
    "execution": {
     "iopub.execute_input": "2023-07-16T02:53:03.641443Z",
     "iopub.status.busy": "2023-07-16T02:53:03.640917Z",
     "iopub.status.idle": "2023-07-16T02:53:03.646549Z",
     "shell.execute_reply": "2023-07-16T02:53:03.645473Z",
     "shell.execute_reply.started": "2023-07-16T02:53:03.641392Z"
    }
   },
   "outputs": [],
   "source": [
    "# Defining the columns,i.e the labels that were newly added to the train_classes via hot encoding.\n",
    "columns = list(train.columns[2:])"
   ]
  },
  {
   "cell_type": "code",
   "execution_count": 9,
   "metadata": {
    "execution": {
     "iopub.execute_input": "2023-07-16T02:53:05.350249Z",
     "iopub.status.busy": "2023-07-16T02:53:05.349222Z",
     "iopub.status.idle": "2023-07-16T02:53:05.358948Z",
     "shell.execute_reply": "2023-07-16T02:53:05.357808Z",
     "shell.execute_reply.started": "2023-07-16T02:53:05.350193Z"
    }
   },
   "outputs": [
    {
     "data": {
      "text/plain": [
       "['cultivation',\n",
       " 'conventional_mine',\n",
       " 'habitation',\n",
       " 'bare_ground',\n",
       " 'haze',\n",
       " 'slash_burn',\n",
       " 'blooming',\n",
       " 'partly_cloudy',\n",
       " 'clear',\n",
       " 'road',\n",
       " 'selective_logging',\n",
       " 'blow_down',\n",
       " 'cloudy',\n",
       " 'primary',\n",
       " 'water',\n",
       " 'artisinal_mine',\n",
       " 'agriculture']"
      ]
     },
     "execution_count": 9,
     "metadata": {},
     "output_type": "execute_result"
    }
   ],
   "source": [
    "columns"
   ]
  },
  {
   "cell_type": "code",
   "execution_count": 10,
   "metadata": {
    "execution": {
     "iopub.execute_input": "2023-07-16T02:53:07.284469Z",
     "iopub.status.busy": "2023-07-16T02:53:07.283370Z",
     "iopub.status.idle": "2023-07-16T02:53:07.293941Z",
     "shell.execute_reply": "2023-07-16T02:53:07.292692Z",
     "shell.execute_reply.started": "2023-07-16T02:53:07.284419Z"
    }
   },
   "outputs": [],
   "source": [
    "def fbeta(y_true, y_pred, beta = 2, epsilon = 1e-4):\n",
    "    '''\n",
    "    Set y_true and y_pred\n",
    "\n",
    "    Args:\n",
    "        y_true: correct target values\n",
    "        Y_pred: predicted values returned by the classifer\n",
    "        beta = 2\n",
    "        epsilon= 1e-4\n",
    "        \n",
    "    Returns:\n",
    "        fbeta score\n",
    "    '''\n",
    "    \n",
    "    beta_squared = beta**2\n",
    "    \n",
    "    y_true = tf.cast(y_true, tf.float32)\n",
    "    y_pred = tf.cast(tf.greater(tf.cast(y_pred, tf.float32), tf.constant(0.5)), tf.float32)\n",
    "    \n",
    "    tp = tf.reduce_sum(y_true * y_pred, axis = 1)\n",
    "    fp = tf.reduce_sum(y_pred, axis = 1) - tp\n",
    "    fn = tf.reduce_sum(y_true, axis = 1) - tp\n",
    "    \n",
    "    precision = tp/(tp+fp+epsilon)\n",
    "    recall = tp/(tp+fn+epsilon)\n",
    "    \n",
    "    fb = (1+beta_squared)*precision*recall / (beta_squared*precision+recall+epsilon)\n",
    "    return fb"
   ]
  },
  {
   "cell_type": "code",
   "execution_count": 11,
   "metadata": {
    "execution": {
     "iopub.execute_input": "2023-07-16T02:53:08.759219Z",
     "iopub.status.busy": "2023-07-16T02:53:08.758803Z",
     "iopub.status.idle": "2023-07-16T02:53:08.770588Z",
     "shell.execute_reply": "2023-07-16T02:53:08.769280Z",
     "shell.execute_reply.started": "2023-07-16T02:53:08.759181Z"
    }
   },
   "outputs": [],
   "source": [
    "def multi_label_acc(y_true, y_pred, epsilon = 1e-4):\n",
    "    '''\n",
    "    Retuns accuracy value for multi_label classification\n",
    "    \n",
    "    Set y_true and y_pred\n",
    "\n",
    "    Args:\n",
    "        y_true: correct target values\n",
    "        Y_pred: predicted values returned by the classifer\n",
    "        epsilon= 1e-4\n",
    "        \n",
    "    Returns:\n",
    "        Accuracy score\n",
    "    '''\n",
    "    y_true = tf.cast(y_true, tf.float32)\n",
    "    y_pred = tf.cast(tf.greater(tf.cast(y_pred, tf.float32), tf.constant(0.5)), tf.float32)\n",
    "    \n",
    "    tp = tf.reduce_sum(y_true * y_pred, axis = 1)\n",
    "    fp = tf.reduce_sum(y_pred, axis = 1) - tp\n",
    "    fn = tf.reduce_sum(y_true, axis = 1) - tp\n",
    "    \n",
    "    y_true = tf.cast(y_true, tf.bool)\n",
    "    y_pred = tf.cast(y_pred, tf.bool)\n",
    "        \n",
    "    tn = tf.reduce_sum(tf.cast(tf.logical_not(y_true), tf.float32)\n",
    "                       * tf.cast(tf.logical_not(y_pred), tf.float32), axis = 1)\n",
    "    \n",
    "    return (tp+tn)/(tp+tn+fp+fn+epsilon)"
   ]
  },
  {
   "cell_type": "code",
   "execution_count": 12,
   "metadata": {
    "execution": {
     "iopub.execute_input": "2023-07-16T02:53:10.234122Z",
     "iopub.status.busy": "2023-07-16T02:53:10.233709Z",
     "iopub.status.idle": "2023-07-16T02:53:10.250504Z",
     "shell.execute_reply": "2023-07-16T02:53:10.249401Z",
     "shell.execute_reply.started": "2023-07-16T02:53:10.234084Z"
    }
   },
   "outputs": [],
   "source": [
    "#defining our model\n",
    "def build_model():\n",
    "    model = Sequential()\n",
    "    model.add(BatchNormalization(input_shape=(128, 128, 3)))\n",
    "    model.add(Conv2D(32, kernel_size=(3, 3), padding='same', activation='relu'))\n",
    "    model.add(Conv2D(32, kernel_size=(3, 3), activation='relu'))\n",
    "    model.add(MaxPooling2D(pool_size=(2, 2)))\n",
    "    model.add(Dropout(0.2))\n",
    "\n",
    "    model.add(Conv2D(64, kernel_size=(3, 3), padding='same', activation='relu'))\n",
    "    model.add(Conv2D(64, kernel_size=(3, 3), activation='relu'))\n",
    "    model.add(MaxPooling2D(pool_size=(2, 2)))\n",
    "    model.add(Dropout(0.2))\n",
    "\n",
    "    model.add(Conv2D(128, kernel_size=(3, 3), padding='same', activation='relu'))\n",
    "    model.add(Conv2D(128, kernel_size=(3, 3), activation='relu'))\n",
    "    model.add(MaxPooling2D(pool_size=(2, 2)))\n",
    "    model.add(Dropout(0.2))\n",
    "\n",
    "    model.add(Conv2D(256, kernel_size=(3, 3), padding='same', activation='relu'))\n",
    "    model.add(Conv2D(256, kernel_size=(3, 3), activation='relu'))\n",
    "    model.add(MaxPooling2D(pool_size=(2, 2)))\n",
    "    model.add(Dropout(0.2))\n",
    "\n",
    "    model.add(Flatten())\n",
    "    model.add(Dense(512, activation='relu'))\n",
    "    model.add(Dropout(0.5))\n",
    "    model.add(Dense(17, activation='sigmoid'))\n",
    "\n",
    "    opt = Adam(lr=1e-4)\n",
    "    \n",
    "    # We need binary here, since categorical_crossentropy l1 norms the output before calculating loss.\n",
    "    model.compile(loss='binary_crossentropy',\n",
    "              optimizer=opt,\n",
    "              metrics=[multi_label_acc, fbeta])\n",
    "\n",
    "    return model"
   ]
  },
  {
   "cell_type": "code",
   "execution_count": 13,
   "metadata": {
    "execution": {
     "iopub.execute_input": "2023-07-16T02:53:13.618936Z",
     "iopub.status.busy": "2023-07-16T02:53:13.618550Z",
     "iopub.status.idle": "2023-07-16T02:53:13.624594Z",
     "shell.execute_reply": "2023-07-16T02:53:13.623392Z",
     "shell.execute_reply.started": "2023-07-16T02:53:13.618900Z"
    }
   },
   "outputs": [],
   "source": [
    "#modelcheckpoint is set to monitor the model using validation fbeta score and save the best only\n",
    "save_best_check_point = ModelCheckpoint(filepath = 'best_model.hdf5', \n",
    "                                        monitor = 'val_fbeta',\n",
    "                                        mode = 'max',\n",
    "                                        save_best_only = True,\n",
    "                                        save_weights_only = True)"
   ]
  },
  {
   "cell_type": "code",
   "execution_count": 14,
   "metadata": {
    "execution": {
     "iopub.execute_input": "2023-07-16T02:53:15.491912Z",
     "iopub.status.busy": "2023-07-16T02:53:15.491517Z",
     "iopub.status.idle": "2023-07-16T02:56:21.091550Z",
     "shell.execute_reply": "2023-07-16T02:56:21.090445Z",
     "shell.execute_reply.started": "2023-07-16T02:53:15.491876Z"
    }
   },
   "outputs": [
    {
     "name": "stdout",
     "output_type": "stream",
     "text": [
      "Found 32384 validated image filenames.\n",
      "Found 8095 validated image filenames.\n"
     ]
    }
   ],
   "source": [
    "#initializing imagedatagenerator with a validation split of 0.2\n",
    "train_image_gen = ImageDataGenerator(rescale = 1/255, validation_split = 0.2)\n",
    "\n",
    "#generating train data generator which is 80% of the train dataset\n",
    "#note that a generator contains both features and target of the data\n",
    "train_generator = train_image_gen.flow_from_dataframe(dataframe=train,\n",
    "                                                directory =\"/kaggle/input/planets-dataset/planet/planet/train-jpg\",  \n",
    "                                                x_col=\"image_name\", y_col=columns, subset=\"training\", \n",
    "                                                batch_size=16,seed=2021, shuffle=True, \n",
    "                                                class_mode=\"raw\", target_size=(128,128))\n",
    "\n",
    "#generating validation data which is expected to be 20% of the train dataset since validation split is 0.2\n",
    "val_generator = train_image_gen.flow_from_dataframe(dataframe=train,\n",
    "                                                directory =\"/kaggle/input/planets-dataset/planet/planet/train-jpg\",  \n",
    "                                                x_col=\"image_name\", y_col=columns, subset=\"validation\", \n",
    "                                                batch_size=16,seed=2021, shuffle=True, \n",
    "                                                class_mode=\"raw\", target_size=(128,128))"
   ]
  },
  {
   "cell_type": "code",
   "execution_count": 15,
   "metadata": {
    "execution": {
     "iopub.execute_input": "2023-07-16T02:56:26.037728Z",
     "iopub.status.busy": "2023-07-16T02:56:26.036773Z",
     "iopub.status.idle": "2023-07-16T02:56:26.044760Z",
     "shell.execute_reply": "2023-07-16T02:56:26.043654Z",
     "shell.execute_reply.started": "2023-07-16T02:56:26.037672Z"
    }
   },
   "outputs": [],
   "source": [
    "import numpy as np\n",
    "#setting up step size for training and validation image data\n",
    "step_train_size = int(np.ceil(train_generator.samples / train_generator.batch_size))\n",
    "step_val_size = int(np.ceil(val_generator.samples / val_generator.batch_size))"
   ]
  },
  {
   "cell_type": "code",
   "execution_count": 16,
   "metadata": {
    "execution": {
     "iopub.execute_input": "2023-07-16T02:56:27.922928Z",
     "iopub.status.busy": "2023-07-16T02:56:27.922215Z",
     "iopub.status.idle": "2023-07-16T02:56:30.493964Z",
     "shell.execute_reply": "2023-07-16T02:56:30.492883Z",
     "shell.execute_reply.started": "2023-07-16T02:56:27.922890Z"
    }
   },
   "outputs": [],
   "source": [
    "#initialize the model\n",
    "model1 = build_model()"
   ]
  },
  {
   "cell_type": "code",
   "execution_count": 17,
   "metadata": {
    "execution": {
     "iopub.execute_input": "2023-07-16T02:56:32.423734Z",
     "iopub.status.busy": "2023-07-16T02:56:32.423024Z",
     "iopub.status.idle": "2023-07-16T02:56:32.473798Z",
     "shell.execute_reply": "2023-07-16T02:56:32.472941Z",
     "shell.execute_reply.started": "2023-07-16T02:56:32.423694Z"
    }
   },
   "outputs": [
    {
     "name": "stdout",
     "output_type": "stream",
     "text": [
      "Model: \"sequential\"\n",
      "_________________________________________________________________\n",
      " Layer (type)                Output Shape              Param #   \n",
      "=================================================================\n",
      " batch_normalization (BatchN  (None, 128, 128, 3)      12        \n",
      " ormalization)                                                   \n",
      "                                                                 \n",
      " conv2d (Conv2D)             (None, 128, 128, 32)      896       \n",
      "                                                                 \n",
      " conv2d_1 (Conv2D)           (None, 126, 126, 32)      9248      \n",
      "                                                                 \n",
      " max_pooling2d (MaxPooling2D  (None, 63, 63, 32)       0         \n",
      " )                                                               \n",
      "                                                                 \n",
      " dropout (Dropout)           (None, 63, 63, 32)        0         \n",
      "                                                                 \n",
      " conv2d_2 (Conv2D)           (None, 63, 63, 64)        18496     \n",
      "                                                                 \n",
      " conv2d_3 (Conv2D)           (None, 61, 61, 64)        36928     \n",
      "                                                                 \n",
      " max_pooling2d_1 (MaxPooling  (None, 30, 30, 64)       0         \n",
      " 2D)                                                             \n",
      "                                                                 \n",
      " dropout_1 (Dropout)         (None, 30, 30, 64)        0         \n",
      "                                                                 \n",
      " conv2d_4 (Conv2D)           (None, 30, 30, 128)       73856     \n",
      "                                                                 \n",
      " conv2d_5 (Conv2D)           (None, 28, 28, 128)       147584    \n",
      "                                                                 \n",
      " max_pooling2d_2 (MaxPooling  (None, 14, 14, 128)      0         \n",
      " 2D)                                                             \n",
      "                                                                 \n",
      " dropout_2 (Dropout)         (None, 14, 14, 128)       0         \n",
      "                                                                 \n",
      " conv2d_6 (Conv2D)           (None, 14, 14, 256)       295168    \n",
      "                                                                 \n",
      " conv2d_7 (Conv2D)           (None, 12, 12, 256)       590080    \n",
      "                                                                 \n",
      " max_pooling2d_3 (MaxPooling  (None, 6, 6, 256)        0         \n",
      " 2D)                                                             \n",
      "                                                                 \n",
      " dropout_3 (Dropout)         (None, 6, 6, 256)         0         \n",
      "                                                                 \n",
      " flatten (Flatten)           (None, 9216)              0         \n",
      "                                                                 \n",
      " dense (Dense)               (None, 512)               4719104   \n",
      "                                                                 \n",
      " dropout_4 (Dropout)         (None, 512)               0         \n",
      "                                                                 \n",
      " dense_1 (Dense)             (None, 17)                8721      \n",
      "                                                                 \n",
      "=================================================================\n",
      "Total params: 5,900,093\n",
      "Trainable params: 5,900,087\n",
      "Non-trainable params: 6\n",
      "_________________________________________________________________\n"
     ]
    }
   ],
   "source": [
    "# Preview the model architecture\n",
    "model1.summary()"
   ]
  },
  {
   "cell_type": "code",
   "execution_count": 18,
   "metadata": {
    "execution": {
     "iopub.execute_input": "2023-07-16T02:56:36.089630Z",
     "iopub.status.busy": "2023-07-16T02:56:36.088463Z",
     "iopub.status.idle": "2023-07-16T03:34:15.331288Z",
     "shell.execute_reply": "2023-07-16T03:34:15.329970Z",
     "shell.execute_reply.started": "2023-07-16T02:56:36.089585Z"
    }
   },
   "outputs": [
    {
     "name": "stdout",
     "output_type": "stream",
     "text": [
      "Epoch 1/15\n"
     ]
    },
    {
     "name": "stderr",
     "output_type": "stream",
     "text": [
      "2023-07-16 02:56:38.543026: E tensorflow/core/grappler/optimizers/meta_optimizer.cc:954] layout failed: INVALID_ARGUMENT: Size of values 0 does not match size of permutation 4 @ fanin shape insequential/dropout/dropout/SelectV2-2-TransposeNHWCToNCHW-LayoutOptimizer\n"
     ]
    },
    {
     "name": "stdout",
     "output_type": "stream",
     "text": [
      "2024/2024 [==============================] - 504s 244ms/step - loss: 0.2076 - multi_label_acc: 0.9188 - fbeta: 0.6998 - val_loss: 0.1612 - val_multi_label_acc: 0.9356 - val_fbeta: 0.7692\n",
      "Epoch 2/15\n",
      "2024/2024 [==============================] - 164s 81ms/step - loss: 0.1707 - multi_label_acc: 0.9330 - fbeta: 0.7665 - val_loss: 0.1504 - val_multi_label_acc: 0.9402 - val_fbeta: 0.7787\n",
      "Epoch 3/15\n",
      "2024/2024 [==============================] - 135s 67ms/step - loss: 0.1605 - multi_label_acc: 0.9362 - fbeta: 0.7817 - val_loss: 0.1558 - val_multi_label_acc: 0.9370 - val_fbeta: 0.7536\n",
      "Epoch 4/15\n",
      "2024/2024 [==============================] - 127s 63ms/step - loss: 0.1521 - multi_label_acc: 0.9395 - fbeta: 0.7971 - val_loss: 0.1425 - val_multi_label_acc: 0.9426 - val_fbeta: 0.8028\n",
      "Epoch 5/15\n",
      "2024/2024 [==============================] - 120s 59ms/step - loss: 0.1454 - multi_label_acc: 0.9426 - fbeta: 0.8137 - val_loss: 0.1366 - val_multi_label_acc: 0.9456 - val_fbeta: 0.8211\n",
      "Epoch 6/15\n",
      "2024/2024 [==============================] - 118s 58ms/step - loss: 0.1414 - multi_label_acc: 0.9447 - fbeta: 0.8207 - val_loss: 0.1307 - val_multi_label_acc: 0.9487 - val_fbeta: 0.8325\n",
      "Epoch 7/15\n",
      "2024/2024 [==============================] - 120s 59ms/step - loss: 0.1369 - multi_label_acc: 0.9467 - fbeta: 0.8282 - val_loss: 0.1329 - val_multi_label_acc: 0.9489 - val_fbeta: 0.8383\n",
      "Epoch 8/15\n",
      "2024/2024 [==============================] - 122s 60ms/step - loss: 0.1349 - multi_label_acc: 0.9473 - fbeta: 0.8320 - val_loss: 0.1276 - val_multi_label_acc: 0.9508 - val_fbeta: 0.8411\n",
      "Epoch 9/15\n",
      "2024/2024 [==============================] - 119s 59ms/step - loss: 0.1332 - multi_label_acc: 0.9480 - fbeta: 0.8336 - val_loss: 0.1254 - val_multi_label_acc: 0.9513 - val_fbeta: 0.8432\n",
      "Epoch 10/15\n",
      "2024/2024 [==============================] - 118s 58ms/step - loss: 0.1304 - multi_label_acc: 0.9495 - fbeta: 0.8401 - val_loss: 0.1275 - val_multi_label_acc: 0.9513 - val_fbeta: 0.8467\n",
      "Epoch 11/15\n",
      "2024/2024 [==============================] - 118s 58ms/step - loss: 0.1301 - multi_label_acc: 0.9494 - fbeta: 0.8393 - val_loss: 0.1295 - val_multi_label_acc: 0.9509 - val_fbeta: 0.8421\n",
      "Epoch 12/15\n",
      "2024/2024 [==============================] - 118s 58ms/step - loss: 0.1288 - multi_label_acc: 0.9502 - fbeta: 0.8419 - val_loss: 0.1244 - val_multi_label_acc: 0.9527 - val_fbeta: 0.8471\n",
      "Epoch 13/15\n",
      "2024/2024 [==============================] - 138s 68ms/step - loss: 0.1278 - multi_label_acc: 0.9507 - fbeta: 0.8435 - val_loss: 0.1214 - val_multi_label_acc: 0.9529 - val_fbeta: 0.8510\n",
      "Epoch 14/15\n",
      "2024/2024 [==============================] - 117s 58ms/step - loss: 0.1270 - multi_label_acc: 0.9512 - fbeta: 0.8459 - val_loss: 0.1217 - val_multi_label_acc: 0.9529 - val_fbeta: 0.8608\n",
      "Epoch 15/15\n",
      "2024/2024 [==============================] - 119s 59ms/step - loss: 0.1268 - multi_label_acc: 0.9510 - fbeta: 0.8445 - val_loss: 0.1207 - val_multi_label_acc: 0.9539 - val_fbeta: 0.8574\n"
     ]
    },
    {
     "data": {
      "text/plain": [
       "<keras.callbacks.History at 0x7bca8e316c50>"
      ]
     },
     "execution_count": 18,
     "metadata": {},
     "output_type": "execute_result"
    }
   ],
   "source": [
    "#fitting our model using the parameters already defined \n",
    "model1.fit(x = train_generator, \n",
    "           steps_per_epoch = step_train_size, \n",
    "           validation_data = val_generator, \n",
    "           validation_steps = step_val_size,epochs = 15, \n",
    "           callbacks=[save_best_check_point])"
   ]
  },
  {
   "cell_type": "code",
   "execution_count": 19,
   "metadata": {
    "execution": {
     "iopub.execute_input": "2023-07-16T03:34:15.335162Z",
     "iopub.status.busy": "2023-07-16T03:34:15.334823Z",
     "iopub.status.idle": "2023-07-16T03:34:15.514251Z",
     "shell.execute_reply": "2023-07-16T03:34:15.513016Z",
     "shell.execute_reply.started": "2023-07-16T03:34:15.335130Z"
    }
   },
   "outputs": [],
   "source": [
    "#initializing a second model to make predictions\n",
    "model2 = build_model()"
   ]
  },
  {
   "cell_type": "code",
   "execution_count": 20,
   "metadata": {
    "execution": {
     "iopub.execute_input": "2023-07-16T03:34:15.516571Z",
     "iopub.status.busy": "2023-07-16T03:34:15.516160Z",
     "iopub.status.idle": "2023-07-16T03:34:15.602705Z",
     "shell.execute_reply": "2023-07-16T03:34:15.601571Z",
     "shell.execute_reply.started": "2023-07-16T03:34:15.516525Z"
    }
   },
   "outputs": [],
   "source": [
    "#loading in the weights of the trained model\n",
    "model2.load_weights('best_model.hdf5')"
   ]
  },
  {
   "cell_type": "code",
   "execution_count": 21,
   "metadata": {
    "execution": {
     "iopub.execute_input": "2023-07-16T03:34:15.605806Z",
     "iopub.status.busy": "2023-07-16T03:34:15.605487Z",
     "iopub.status.idle": "2023-07-16T03:34:15.738734Z",
     "shell.execute_reply": "2023-07-16T03:34:15.737313Z",
     "shell.execute_reply.started": "2023-07-16T03:34:15.605775Z"
    }
   },
   "outputs": [
    {
     "data": {
      "text/html": [
       "<div>\n",
       "<style scoped>\n",
       "    .dataframe tbody tr th:only-of-type {\n",
       "        vertical-align: middle;\n",
       "    }\n",
       "\n",
       "    .dataframe tbody tr th {\n",
       "        vertical-align: top;\n",
       "    }\n",
       "\n",
       "    .dataframe thead th {\n",
       "        text-align: right;\n",
       "    }\n",
       "</style>\n",
       "<table border=\"1\" class=\"dataframe\">\n",
       "  <thead>\n",
       "    <tr style=\"text-align: right;\">\n",
       "      <th></th>\n",
       "      <th>image_name</th>\n",
       "      <th>tags</th>\n",
       "    </tr>\n",
       "  </thead>\n",
       "  <tbody>\n",
       "    <tr>\n",
       "      <th>0</th>\n",
       "      <td>test_0.jpg</td>\n",
       "      <td>primary clear agriculture road water</td>\n",
       "    </tr>\n",
       "    <tr>\n",
       "      <th>1</th>\n",
       "      <td>test_1.jpg</td>\n",
       "      <td>primary clear agriculture road water</td>\n",
       "    </tr>\n",
       "    <tr>\n",
       "      <th>2</th>\n",
       "      <td>test_2.jpg</td>\n",
       "      <td>primary clear agriculture road water</td>\n",
       "    </tr>\n",
       "    <tr>\n",
       "      <th>3</th>\n",
       "      <td>test_3.jpg</td>\n",
       "      <td>primary clear agriculture road water</td>\n",
       "    </tr>\n",
       "    <tr>\n",
       "      <th>4</th>\n",
       "      <td>test_4.jpg</td>\n",
       "      <td>primary clear agriculture road water</td>\n",
       "    </tr>\n",
       "  </tbody>\n",
       "</table>\n",
       "</div>"
      ],
      "text/plain": [
       "   image_name                                  tags\n",
       "0  test_0.jpg  primary clear agriculture road water\n",
       "1  test_1.jpg  primary clear agriculture road water\n",
       "2  test_2.jpg  primary clear agriculture road water\n",
       "3  test_3.jpg  primary clear agriculture road water\n",
       "4  test_4.jpg  primary clear agriculture road water"
      ]
     },
     "execution_count": 21,
     "metadata": {},
     "output_type": "execute_result"
    }
   ],
   "source": [
    "##adding .jpg extension to image name in the sample submission file\n",
    "sample_submission = pd.read_csv('/kaggle/input/planets-dataset/planet/planet/sample_submission.csv')\n",
    "sample_submission1 = sample_submission.copy()\n",
    "sample_submission1['image_name'] = sample_submission1['image_name'].apply(lambda x: '{}.jpg'.format(x))\n",
    "sample_submission1.head()"
   ]
  },
  {
   "cell_type": "code",
   "execution_count": 22,
   "metadata": {
    "execution": {
     "iopub.execute_input": "2023-07-16T03:34:15.741266Z",
     "iopub.status.busy": "2023-07-16T03:34:15.740789Z",
     "iopub.status.idle": "2023-07-16T03:34:15.759278Z",
     "shell.execute_reply": "2023-07-16T03:34:15.757974Z",
     "shell.execute_reply.started": "2023-07-16T03:34:15.741219Z"
    }
   },
   "outputs": [
    {
     "data": {
      "text/html": [
       "<div>\n",
       "<style scoped>\n",
       "    .dataframe tbody tr th:only-of-type {\n",
       "        vertical-align: middle;\n",
       "    }\n",
       "\n",
       "    .dataframe tbody tr th {\n",
       "        vertical-align: top;\n",
       "    }\n",
       "\n",
       "    .dataframe thead th {\n",
       "        text-align: right;\n",
       "    }\n",
       "</style>\n",
       "<table border=\"1\" class=\"dataframe\">\n",
       "  <thead>\n",
       "    <tr style=\"text-align: right;\">\n",
       "      <th></th>\n",
       "      <th>image_name</th>\n",
       "    </tr>\n",
       "  </thead>\n",
       "  <tbody>\n",
       "    <tr>\n",
       "      <th>0</th>\n",
       "      <td>test_0.jpg</td>\n",
       "    </tr>\n",
       "    <tr>\n",
       "      <th>1</th>\n",
       "      <td>test_1.jpg</td>\n",
       "    </tr>\n",
       "    <tr>\n",
       "      <th>2</th>\n",
       "      <td>test_2.jpg</td>\n",
       "    </tr>\n",
       "    <tr>\n",
       "      <th>3</th>\n",
       "      <td>test_3.jpg</td>\n",
       "    </tr>\n",
       "    <tr>\n",
       "      <th>4</th>\n",
       "      <td>test_4.jpg</td>\n",
       "    </tr>\n",
       "  </tbody>\n",
       "</table>\n",
       "</div>"
      ],
      "text/plain": [
       "   image_name\n",
       "0  test_0.jpg\n",
       "1  test_1.jpg\n",
       "2  test_2.jpg\n",
       "3  test_3.jpg\n",
       "4  test_4.jpg"
      ]
     },
     "execution_count": 22,
     "metadata": {},
     "output_type": "execute_result"
    }
   ],
   "source": [
    "# Divide the sample submission file into two splits,\n",
    "# first test_df which contains the first 40669 images \n",
    "test_df = sample_submission1.iloc[:40669]['image_name'].reset_index().drop('index', axis =1)\n",
    "test_df.head()"
   ]
  },
  {
   "cell_type": "code",
   "execution_count": 23,
   "metadata": {
    "execution": {
     "iopub.execute_input": "2023-07-16T03:34:15.761539Z",
     "iopub.status.busy": "2023-07-16T03:34:15.761087Z",
     "iopub.status.idle": "2023-07-16T03:36:46.813277Z",
     "shell.execute_reply": "2023-07-16T03:36:46.812104Z",
     "shell.execute_reply.started": "2023-07-16T03:34:15.761493Z"
    }
   },
   "outputs": [
    {
     "name": "stdout",
     "output_type": "stream",
     "text": [
      "Found 40669 validated image filenames.\n"
     ]
    }
   ],
   "source": [
    "#initialize imagedatagenerator for the test images and also rescaling\n",
    "test_image_gen = ImageDataGenerator(rescale = 1/255)\n",
    "\n",
    "#creating a generator for the images found in the first test image files\n",
    "test_generator = test_image_gen.flow_from_dataframe(dataframe=test_df, \n",
    "                                                directory=\"/kaggle/input/planets-dataset/planet/planet/test-jpg\", \n",
    "                                                x_col=\"image_name\", \n",
    "                                                y_col=None, \n",
    "                                                batch_size=16, \n",
    "                                                shuffle=False, \n",
    "                                                class_mode=None, \n",
    "                                                target_size=(128,128))\n",
    "\n",
    "step_test_size = int(np.ceil(test_generator.samples/test_generator.batch_size))\n",
    "\n"
   ]
  },
  {
   "cell_type": "code",
   "execution_count": 24,
   "metadata": {
    "execution": {
     "iopub.execute_input": "2023-07-16T03:36:46.815515Z",
     "iopub.status.busy": "2023-07-16T03:36:46.814824Z",
     "iopub.status.idle": "2023-07-16T03:42:58.959044Z",
     "shell.execute_reply": "2023-07-16T03:42:58.957886Z",
     "shell.execute_reply.started": "2023-07-16T03:36:46.815472Z"
    }
   },
   "outputs": [
    {
     "name": "stdout",
     "output_type": "stream",
     "text": [
      "2542/2542 [==============================] - 370s 146ms/step\n"
     ]
    }
   ],
   "source": [
    "#first, we reset the test generator to avoid shuffling of index as we want it to be orderly\n",
    "test_generator.reset()\n",
    "pred = model2.predict(test_generator, steps = step_test_size, verbose = 1)"
   ]
  },
  {
   "cell_type": "code",
   "execution_count": 25,
   "metadata": {
    "execution": {
     "iopub.execute_input": "2023-07-16T03:42:58.961569Z",
     "iopub.status.busy": "2023-07-16T03:42:58.960952Z",
     "iopub.status.idle": "2023-07-16T03:43:09.256069Z",
     "shell.execute_reply": "2023-07-16T03:43:09.254949Z",
     "shell.execute_reply.started": "2023-07-16T03:42:58.961527Z"
    }
   },
   "outputs": [
    {
     "data": {
      "text/html": [
       "<div>\n",
       "<style scoped>\n",
       "    .dataframe tbody tr th:only-of-type {\n",
       "        vertical-align: middle;\n",
       "    }\n",
       "\n",
       "    .dataframe tbody tr th {\n",
       "        vertical-align: top;\n",
       "    }\n",
       "\n",
       "    .dataframe thead th {\n",
       "        text-align: right;\n",
       "    }\n",
       "</style>\n",
       "<table border=\"1\" class=\"dataframe\">\n",
       "  <thead>\n",
       "    <tr style=\"text-align: right;\">\n",
       "      <th></th>\n",
       "      <th>image_name</th>\n",
       "      <th>tags</th>\n",
       "    </tr>\n",
       "  </thead>\n",
       "  <tbody>\n",
       "    <tr>\n",
       "      <th>0</th>\n",
       "      <td>test_0.jpg</td>\n",
       "      <td>clear primary</td>\n",
       "    </tr>\n",
       "    <tr>\n",
       "      <th>1</th>\n",
       "      <td>test_1.jpg</td>\n",
       "      <td>primary</td>\n",
       "    </tr>\n",
       "    <tr>\n",
       "      <th>2</th>\n",
       "      <td>test_2.jpg</td>\n",
       "      <td>partly_cloudy primary</td>\n",
       "    </tr>\n",
       "    <tr>\n",
       "      <th>3</th>\n",
       "      <td>test_3.jpg</td>\n",
       "      <td>clear primary</td>\n",
       "    </tr>\n",
       "    <tr>\n",
       "      <th>4</th>\n",
       "      <td>test_4.jpg</td>\n",
       "      <td>cloudy</td>\n",
       "    </tr>\n",
       "  </tbody>\n",
       "</table>\n",
       "</div>"
      ],
      "text/plain": [
       "   image_name                   tags\n",
       "0  test_0.jpg          clear primary\n",
       "1  test_1.jpg                primary\n",
       "2  test_2.jpg  partly_cloudy primary\n",
       "3  test_3.jpg          clear primary\n",
       "4  test_4.jpg                 cloudy"
      ]
     },
     "execution_count": 25,
     "metadata": {},
     "output_type": "execute_result"
    }
   ],
   "source": [
    "#this is to get the filenames in the generator using the attribute .filenames\n",
    "file_names = test_generator.filenames\n",
    "\n",
    "#convert the predicted values to a dataframe and join two labels together if the probability of occurrance \n",
    "#of the label is greater than 0.5 \n",
    "pred_tags = pd.DataFrame(pred)\n",
    "pred_tags = pred_tags.apply(lambda x: ' '.join(np.array(labels)[x>0.5]), axis = 1)\n",
    "\n",
    "#then the result should look like this \n",
    "result1 = pd.DataFrame({'image_name': file_names, 'tags': pred_tags})\n",
    "result1.head()"
   ]
  },
  {
   "cell_type": "code",
   "execution_count": 26,
   "metadata": {
    "execution": {
     "iopub.execute_input": "2023-07-16T03:43:09.258239Z",
     "iopub.status.busy": "2023-07-16T03:43:09.257653Z",
     "iopub.status.idle": "2023-07-16T03:43:09.271154Z",
     "shell.execute_reply": "2023-07-16T03:43:09.269859Z",
     "shell.execute_reply.started": "2023-07-16T03:43:09.258198Z"
    }
   },
   "outputs": [
    {
     "data": {
      "text/html": [
       "<div>\n",
       "<style scoped>\n",
       "    .dataframe tbody tr th:only-of-type {\n",
       "        vertical-align: middle;\n",
       "    }\n",
       "\n",
       "    .dataframe tbody tr th {\n",
       "        vertical-align: top;\n",
       "    }\n",
       "\n",
       "    .dataframe thead th {\n",
       "        text-align: right;\n",
       "    }\n",
       "</style>\n",
       "<table border=\"1\" class=\"dataframe\">\n",
       "  <thead>\n",
       "    <tr style=\"text-align: right;\">\n",
       "      <th></th>\n",
       "      <th>image_name</th>\n",
       "    </tr>\n",
       "  </thead>\n",
       "  <tbody>\n",
       "    <tr>\n",
       "      <th>0</th>\n",
       "      <td>file_0.jpg</td>\n",
       "    </tr>\n",
       "    <tr>\n",
       "      <th>1</th>\n",
       "      <td>file_1.jpg</td>\n",
       "    </tr>\n",
       "    <tr>\n",
       "      <th>2</th>\n",
       "      <td>file_10.jpg</td>\n",
       "    </tr>\n",
       "    <tr>\n",
       "      <th>3</th>\n",
       "      <td>file_100.jpg</td>\n",
       "    </tr>\n",
       "    <tr>\n",
       "      <th>4</th>\n",
       "      <td>file_1000.jpg</td>\n",
       "    </tr>\n",
       "  </tbody>\n",
       "</table>\n",
       "</div>"
      ],
      "text/plain": [
       "      image_name\n",
       "0     file_0.jpg\n",
       "1     file_1.jpg\n",
       "2    file_10.jpg\n",
       "3   file_100.jpg\n",
       "4  file_1000.jpg"
      ]
     },
     "execution_count": 26,
     "metadata": {},
     "output_type": "execute_result"
    }
   ],
   "source": [
    "#additional test dataset\n",
    "add_test_df = sample_submission1.iloc[40669:]['image_name'].reset_index().drop('index', axis =1)\n",
    "add_test_df.head()"
   ]
  },
  {
   "cell_type": "code",
   "execution_count": 27,
   "metadata": {
    "execution": {
     "iopub.execute_input": "2023-07-16T03:43:09.276177Z",
     "iopub.status.busy": "2023-07-16T03:43:09.275483Z",
     "iopub.status.idle": "2023-07-16T03:44:22.440429Z",
     "shell.execute_reply": "2023-07-16T03:44:22.439313Z",
     "shell.execute_reply.started": "2023-07-16T03:43:09.276122Z"
    }
   },
   "outputs": [
    {
     "name": "stdout",
     "output_type": "stream",
     "text": [
      "Found 20522 validated image filenames.\n"
     ]
    }
   ],
   "source": [
    "#creating a generator for the additional test image files\n",
    "add_test_generator = test_image_gen.flow_from_dataframe(dataframe = add_test_df, \n",
    "                                                    directory =\"/kaggle/input/planets-dataset/test-jpg-additional/test-jpg-additional\", \n",
    "                                                    x_col=\"image_name\", \n",
    "                                                    y_col=None, \n",
    "                                                    batch_size=16, \n",
    "                                                    shuffle=False, \n",
    "                                                    class_mode=None, \n",
    "                                                    target_size=(128,128))\n",
    "\n",
    "\n",
    "step_test_size2 = int(np.ceil(add_test_generator.samples/add_test_generator.batch_size))"
   ]
  },
  {
   "cell_type": "code",
   "execution_count": 28,
   "metadata": {
    "execution": {
     "iopub.execute_input": "2023-07-16T03:44:22.442456Z",
     "iopub.status.busy": "2023-07-16T03:44:22.442039Z",
     "iopub.status.idle": "2023-07-16T03:47:26.390392Z",
     "shell.execute_reply": "2023-07-16T03:47:26.389212Z",
     "shell.execute_reply.started": "2023-07-16T03:44:22.442423Z"
    }
   },
   "outputs": [
    {
     "name": "stdout",
     "output_type": "stream",
     "text": [
      "1283/1283 [==============================] - 183s 143ms/step\n"
     ]
    }
   ],
   "source": [
    "#we reset the generator to avoid shuffling, then make prediction on the generator\n",
    "add_test_generator.reset()\n",
    "add_pred = model2.predict(add_test_generator, steps = step_test_size2, verbose = 1)"
   ]
  },
  {
   "cell_type": "code",
   "execution_count": 29,
   "metadata": {
    "execution": {
     "iopub.execute_input": "2023-07-16T03:47:26.393155Z",
     "iopub.status.busy": "2023-07-16T03:47:26.392149Z",
     "iopub.status.idle": "2023-07-16T03:47:31.604376Z",
     "shell.execute_reply": "2023-07-16T03:47:31.603214Z",
     "shell.execute_reply.started": "2023-07-16T03:47:26.393110Z"
    }
   },
   "outputs": [
    {
     "data": {
      "text/html": [
       "<div>\n",
       "<style scoped>\n",
       "    .dataframe tbody tr th:only-of-type {\n",
       "        vertical-align: middle;\n",
       "    }\n",
       "\n",
       "    .dataframe tbody tr th {\n",
       "        vertical-align: top;\n",
       "    }\n",
       "\n",
       "    .dataframe thead th {\n",
       "        text-align: right;\n",
       "    }\n",
       "</style>\n",
       "<table border=\"1\" class=\"dataframe\">\n",
       "  <thead>\n",
       "    <tr style=\"text-align: right;\">\n",
       "      <th></th>\n",
       "      <th>image_name</th>\n",
       "      <th>tags</th>\n",
       "    </tr>\n",
       "  </thead>\n",
       "  <tbody>\n",
       "    <tr>\n",
       "      <th>0</th>\n",
       "      <td>file_0.jpg</td>\n",
       "      <td>clearprimary</td>\n",
       "    </tr>\n",
       "    <tr>\n",
       "      <th>1</th>\n",
       "      <td>file_1.jpg</td>\n",
       "      <td>clearroadprimaryagriculture</td>\n",
       "    </tr>\n",
       "    <tr>\n",
       "      <th>2</th>\n",
       "      <td>file_10.jpg</td>\n",
       "      <td>clearprimarywateragriculture</td>\n",
       "    </tr>\n",
       "    <tr>\n",
       "      <th>3</th>\n",
       "      <td>file_100.jpg</td>\n",
       "      <td>clearprimaryagriculture</td>\n",
       "    </tr>\n",
       "    <tr>\n",
       "      <th>4</th>\n",
       "      <td>file_1000.jpg</td>\n",
       "      <td>clearprimary</td>\n",
       "    </tr>\n",
       "  </tbody>\n",
       "</table>\n",
       "</div>"
      ],
      "text/plain": [
       "      image_name                          tags\n",
       "0     file_0.jpg                  clearprimary\n",
       "1     file_1.jpg   clearroadprimaryagriculture\n",
       "2    file_10.jpg  clearprimarywateragriculture\n",
       "3   file_100.jpg       clearprimaryagriculture\n",
       "4  file_1000.jpg                  clearprimary"
      ]
     },
     "execution_count": 29,
     "metadata": {},
     "output_type": "execute_result"
    }
   ],
   "source": [
    "#this is to get the filenames in the generator using the attribute .filenames\n",
    "file_names = add_test_generator.filenames\n",
    "\n",
    "#convert the predicted values to a dataframe and join two labels together if the probability of occurrance \n",
    "#of the label is greater than 0.5\n",
    "add_pred_tags = pd.DataFrame(add_pred)\n",
    "add_pred_tags = add_pred_tags.apply(lambda x: ''.join(np.array(labels)[x>0.5]), axis = 1)\n",
    "\n",
    "#then the result should look like this\n",
    "result2 = pd.DataFrame({'image_name': file_names, 'tags': add_pred_tags})\n",
    "result2.head()"
   ]
  },
  {
   "cell_type": "code",
   "execution_count": 30,
   "metadata": {
    "execution": {
     "iopub.execute_input": "2023-07-16T03:47:31.607472Z",
     "iopub.status.busy": "2023-07-16T03:47:31.606854Z",
     "iopub.status.idle": "2023-07-16T03:47:31.629461Z",
     "shell.execute_reply": "2023-07-16T03:47:31.628365Z",
     "shell.execute_reply.started": "2023-07-16T03:47:31.607428Z"
    }
   },
   "outputs": [
    {
     "name": "stdout",
     "output_type": "stream",
     "text": [
      "(61191, 2)\n"
     ]
    },
    {
     "data": {
      "text/html": [
       "<div>\n",
       "<style scoped>\n",
       "    .dataframe tbody tr th:only-of-type {\n",
       "        vertical-align: middle;\n",
       "    }\n",
       "\n",
       "    .dataframe tbody tr th {\n",
       "        vertical-align: top;\n",
       "    }\n",
       "\n",
       "    .dataframe thead th {\n",
       "        text-align: right;\n",
       "    }\n",
       "</style>\n",
       "<table border=\"1\" class=\"dataframe\">\n",
       "  <thead>\n",
       "    <tr style=\"text-align: right;\">\n",
       "      <th></th>\n",
       "      <th>image_name</th>\n",
       "      <th>tags</th>\n",
       "    </tr>\n",
       "  </thead>\n",
       "  <tbody>\n",
       "    <tr>\n",
       "      <th>0</th>\n",
       "      <td>test_0.jpg</td>\n",
       "      <td>clear primary</td>\n",
       "    </tr>\n",
       "    <tr>\n",
       "      <th>1</th>\n",
       "      <td>test_1.jpg</td>\n",
       "      <td>primary</td>\n",
       "    </tr>\n",
       "    <tr>\n",
       "      <th>2</th>\n",
       "      <td>test_2.jpg</td>\n",
       "      <td>partly_cloudy primary</td>\n",
       "    </tr>\n",
       "    <tr>\n",
       "      <th>3</th>\n",
       "      <td>test_3.jpg</td>\n",
       "      <td>clear primary</td>\n",
       "    </tr>\n",
       "    <tr>\n",
       "      <th>4</th>\n",
       "      <td>test_4.jpg</td>\n",
       "      <td>cloudy</td>\n",
       "    </tr>\n",
       "  </tbody>\n",
       "</table>\n",
       "</div>"
      ],
      "text/plain": [
       "   image_name                   tags\n",
       "0  test_0.jpg          clear primary\n",
       "1  test_1.jpg                primary\n",
       "2  test_2.jpg  partly_cloudy primary\n",
       "3  test_3.jpg          clear primary\n",
       "4  test_4.jpg                 cloudy"
      ]
     },
     "execution_count": 30,
     "metadata": {},
     "output_type": "execute_result"
    }
   ],
   "source": [
    "#for the final result of the predicted tags for the test images,\n",
    "# we need to concat the first and second results in \n",
    "#that order to avoid shuffling the index\n",
    "last_result = pd.concat([result1, result2])\n",
    "\n",
    "last_result = last_result.reset_index().drop('index', axis =1)\n",
    "\n",
    "print(last_result.shape)\n",
    "#print the final result\n",
    "last_result.head()"
   ]
  },
  {
   "cell_type": "code",
   "execution_count": 31,
   "metadata": {
    "execution": {
     "iopub.execute_input": "2023-07-16T03:47:31.631897Z",
     "iopub.status.busy": "2023-07-16T03:47:31.630642Z",
     "iopub.status.idle": "2023-07-16T03:47:31.668242Z",
     "shell.execute_reply": "2023-07-16T03:47:31.667058Z",
     "shell.execute_reply.started": "2023-07-16T03:47:31.631854Z"
    }
   },
   "outputs": [
    {
     "data": {
      "text/html": [
       "<div>\n",
       "<style scoped>\n",
       "    .dataframe tbody tr th:only-of-type {\n",
       "        vertical-align: middle;\n",
       "    }\n",
       "\n",
       "    .dataframe tbody tr th {\n",
       "        vertical-align: top;\n",
       "    }\n",
       "\n",
       "    .dataframe thead th {\n",
       "        text-align: right;\n",
       "    }\n",
       "</style>\n",
       "<table border=\"1\" class=\"dataframe\">\n",
       "  <thead>\n",
       "    <tr style=\"text-align: right;\">\n",
       "      <th></th>\n",
       "      <th>image_name</th>\n",
       "      <th>tags</th>\n",
       "    </tr>\n",
       "  </thead>\n",
       "  <tbody>\n",
       "    <tr>\n",
       "      <th>0</th>\n",
       "      <td>test_0</td>\n",
       "      <td>clear primary</td>\n",
       "    </tr>\n",
       "    <tr>\n",
       "      <th>1</th>\n",
       "      <td>test_1</td>\n",
       "      <td>primary</td>\n",
       "    </tr>\n",
       "    <tr>\n",
       "      <th>2</th>\n",
       "      <td>test_2</td>\n",
       "      <td>partly_cloudy primary</td>\n",
       "    </tr>\n",
       "    <tr>\n",
       "      <th>3</th>\n",
       "      <td>test_3</td>\n",
       "      <td>clear primary</td>\n",
       "    </tr>\n",
       "    <tr>\n",
       "      <th>4</th>\n",
       "      <td>test_4</td>\n",
       "      <td>cloudy</td>\n",
       "    </tr>\n",
       "  </tbody>\n",
       "</table>\n",
       "</div>"
      ],
      "text/plain": [
       "  image_name                   tags\n",
       "0     test_0          clear primary\n",
       "1     test_1                primary\n",
       "2     test_2  partly_cloudy primary\n",
       "3     test_3          clear primary\n",
       "4     test_4                 cloudy"
      ]
     },
     "execution_count": 31,
     "metadata": {},
     "output_type": "execute_result"
    }
   ],
   "source": [
    "#we need to remove the .jpg extension from the image_name of the\n",
    "# last_result because from the sample submission the \n",
    "#extension was not there, we added it for easy manipulation of the data.\n",
    "last_result['image_name'] = last_result['image_name'].apply(lambda x: x[:-4])\n",
    "last_result.head()"
   ]
  },
  {
   "cell_type": "code",
   "execution_count": 32,
   "metadata": {
    "execution": {
     "iopub.execute_input": "2023-07-16T03:47:31.670424Z",
     "iopub.status.busy": "2023-07-16T03:47:31.669805Z",
     "iopub.status.idle": "2023-07-16T03:47:31.856024Z",
     "shell.execute_reply": "2023-07-16T03:47:31.854909Z",
     "shell.execute_reply.started": "2023-07-16T03:47:31.670379Z"
    }
   },
   "outputs": [],
   "source": [
    "# Finally, we save the result to a csv file using the .to_csv() \n",
    "# method and setting the index to false.\n",
    "last_result.to_csv('submission1.csv', index = False)"
   ]
  },
  {
   "cell_type": "code",
   "execution_count": null,
   "metadata": {},
   "outputs": [],
   "source": []
  }
 ],
 "metadata": {
  "kernelspec": {
   "display_name": "Python 3 (ipykernel)",
   "language": "python",
   "name": "python3"
  },
  "language_info": {
   "codemirror_mode": {
    "name": "ipython",
    "version": 3
   },
   "file_extension": ".py",
   "mimetype": "text/x-python",
   "name": "python",
   "nbconvert_exporter": "python",
   "pygments_lexer": "ipython3",
   "version": "3.10.9"
  }
 },
 "nbformat": 4,
 "nbformat_minor": 4
}
